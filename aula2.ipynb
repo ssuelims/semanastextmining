{
 "cells": [
  {
   "cell_type": "markdown",
   "metadata": {},
   "source": [
    "\"Minha vovó Cecilia Lima (in memoriam) sempre dizia\n"
   ]
  },
  {
   "cell_type": "markdown",
   "metadata": {},
   "source": [
    "- PLN - Processamento de Linguagem Natural"
   ]
  },
  {
   "cell_type": "markdown",
   "metadata": {},
   "source": [
    "- Engenheiro de IA(Alunos)\n",
    "- Texto (Dados nao estruturados) - EDA\n",
    "- Data mining (TExt mining) - TDM\n",
    "- Onde minerar:\n",
    "* emails\n",
    "* transcriçoes\n",
    "* SMSs\n",
    "* Midias Sociasis\n",
    "* Diario de bordo\n",
    "* Livros\n",
    "\n",
    "- Desafios:\n",
    "* Transformar texto em numero\n",
    "* Transformar texto em numero\n",
    "* Feature Engineering: texto em dados "
   ]
  },
  {
   "cell_type": "markdown",
   "metadata": {},
   "source": [
    "- Natural Language Toolkit"
   ]
  },
  {
   "cell_type": "markdown",
   "metadata": {},
   "source": [
    "- Lembra do Dataset = Corpus(Texto que sera minerado)\n",
    "- Conjunto de crpus: Corpora\n",
    "\n",
    "A Biblioteca NLTK - ferramentas para trabalhar com o texto , alem de corpora de textos em diversos idiomas."
   ]
  },
  {
   "cell_type": "markdown",
   "metadata": {},
   "source": [
    "- Analisar Semtimentos\n",
    "- Nuvem de Palavras\n"
   ]
  }
 ],
 "metadata": {
  "language_info": {
   "name": "python"
  }
 },
 "nbformat": 4,
 "nbformat_minor": 2
}
